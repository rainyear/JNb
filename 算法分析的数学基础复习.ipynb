{
 "cells": [
  {
   "cell_type": "markdown",
   "metadata": {
    "slideshow": {
     "slide_type": "slide"
    }
   },
   "source": [
    "# 算法分析的数学基础复习\n",
    "\n",
    "![DS3AiC](imgs/DS3AiC.jpg)"
   ]
  },
  {
   "cell_type": "markdown",
   "metadata": {
    "slideshow": {
     "slide_type": "slide"
    }
   },
   "source": [
    "## 1. Exponents\n",
    "\n",
    "$$X^AX^B = X^{A+B}$$\n",
    "\n",
    "$$\\frac{X^A}{X^B} = X^{A-B}$$\n",
    "\n",
    "$$(X^A)^B = X^{A^B}$$\n",
    "\n",
    "$$X^N + X^N = 2X^N \\neq X^{2N}$$\n",
    "\n",
    "$$2^N + 2^N = 2^{N+1}$$"
   ]
  },
  {
   "cell_type": "markdown",
   "metadata": {
    "slideshow": {
     "slide_type": "slide"
    }
   },
   "source": [
    "## 2. Logarithms\n",
    "\n",
    "$$X^A = B \\Leftrightarrow log_XB = A$$\n",
    "\n",
    "$$log_AB = \\frac{log_CB}{log_CA}; C \\gt 0$$\n",
    "\n",
    "$$logAB = logA + logB$$"
   ]
  },
  {
   "cell_type": "markdown",
   "metadata": {
    "slideshow": {
     "slide_type": "slide"
    }
   },
   "source": [
    "## 3. Series\n",
    "\n",
    "$$\\sum_{i=0}^N2^i = 2^{N+1} - 1$$\n",
    "\n",
    "$$\\sum_{i=0}^NA^i = \\frac{A^{N+1} - 1}{A - 1} \\leq \\frac{1}{1 - A} ; if\\ 0 \\lt A \\lt 1$$\n",
    "\n",
    "$$\\sum_{i=1}^Ni = \\frac{N(N+1)}{2} \\approx \\frac{N^2}{2}$$\n",
    "\n",
    "$$\\sum_{i=1}^Ni^2 \\approx \\frac{N^3}{3}$$\n",
    "\n",
    "$$\\sum_{i=1}^Ni^k \\approx \\frac{N^{k+1}}{|k + 1|}; k \\neq -1$$"
   ]
  },
  {
   "cell_type": "markdown",
   "metadata": {
    "slideshow": {
     "slide_type": "slide"
    }
   },
   "source": [
    "## 4. Modular\n",
    "\n",
    "**A is congruent to B modulo N, if N divides (A - B):**\n",
    "\n",
    "$$A \\equiv B(mod\\ N)$$"
   ]
  },
  {
   "cell_type": "markdown",
   "metadata": {
    "slideshow": {
     "slide_type": "slide"
    }
   },
   "source": [
    "## 5. Growth - I\n",
    "\n",
    "$$\\exists c, n_0 \\in R^+, N \\geq n_0, T(N) \\leq cf(N), T(N) = O(f(N))$$\n",
    "\n",
    "$$\\exists c, n_0 \\in R^+, N \\geq n_0, T(N) \\geq cg(N), T(N) = \\Omega(g(N))$$\n",
    "\n",
    "$$T(N) = \\Theta(h(N)) \\Leftrightarrow T(N) = O(h(N)), T(N) = \\Omega(h(N))$$\n",
    "\n",
    "$$T(N) = o(p(N)) \\Leftrightarrow T(N) = O(p(N)), T(N) \\neq \\Omega(p(N))$$\n",
    "\n",
    "### e.g.\n",
    "\n",
    "$$\n",
    "N^2 = O(N^3), N^3 = \\Omega(N^2)\n",
    "$$"
   ]
  },
  {
   "cell_type": "markdown",
   "metadata": {
    "slideshow": {
     "slide_type": "slide"
    }
   },
   "source": [
    "## 5. Growth - II\n",
    "### RULE 1\n",
    "$$\n",
    "T_1(N) = O(f(N)), T_2(N) = O(g(N)) \\\\\n",
    "\\Rightarrow T_1(N) + T_2(N) = max(O(f(N)), O(g(N))) \\\\\n",
    "\\Rightarrow T_1(N) * T_2(N) = O(f(N) * g(N))\n",
    "$$\n",
    "\n",
    "### RULE 2：\n",
    "\n",
    "**if $T(N)$ is a polynomial of degree $k$, then $T(N) = \\Omega(N^k)$**\n",
    "\n",
    "### RULE 3:\n",
    "\n",
    "$$log^kN = O(N)$$"
   ]
  },
  {
   "cell_type": "markdown",
   "metadata": {
    "slideshow": {
     "slide_type": "slide"
    }
   },
   "source": [
    "## 5. Growth - III\n",
    "\n",
    "$$\n",
    "\\lim_{n\\rightarrow\\infty}f(N)/g(N) =\n",
    "\\begin{cases}\n",
    "= 0 \\Leftrightarrow f(N) = o(g(N)) \\\\\n",
    "\\neq 0 \\Leftrightarrow f(N) = \\Omega(g(N)) \\\\\n",
    "= \\infty \\Leftrightarrow g(N) = o(f(N))\n",
    "\\end{cases}\n",
    "$$\n",
    "\n",
    "**L'Hôpital's rule**\n",
    "\n",
    "$$\n",
    "\\lim_{n\\rightarrow\\infty} f(N)/g(N) = \\lim_{n\\rightarrow\\infty} f'(N)/g'(N),\\\\if\\ \\lim_{n\\rightarrow\\infty} f(N)=\\infty, \\lim_{n\\rightarrow\\infty} g(N) = \\infty\n",
    "$$"
   ]
  },
  {
   "cell_type": "markdown",
   "metadata": {
    "slideshow": {
     "slide_type": "slide"
    }
   },
   "source": [
    "[Source](https://github.com/rainyear/nb/)\n",
    "\n",
    "2016-03-17"
   ]
  }
 ],
 "metadata": {
  "celltoolbar": "Slideshow",
  "kernelspec": {
   "display_name": "Python 3",
   "language": "python",
   "name": "python3"
  },
  "language_info": {
   "codemirror_mode": {
    "name": "ipython",
    "version": 3
   },
   "file_extension": ".py",
   "mimetype": "text/x-python",
   "name": "python",
   "nbconvert_exporter": "python",
   "pygments_lexer": "ipython3",
   "version": "3.5.1"
  }
 },
 "nbformat": 4,
 "nbformat_minor": 0
}
