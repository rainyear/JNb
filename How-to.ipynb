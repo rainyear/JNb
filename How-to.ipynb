{
 "cells": [
  {
   "cell_type": "markdown",
   "metadata": {
    "slideshow": {
     "slide_type": "slide"
    }
   },
   "source": [
    "## Turn Jupyter Notebooks Into Presentation Slides\n",
    "\n",
    "_By [@Yushneng](https://github.com/rainyear)_\n",
    "\n",
    "- [Install Jupyter](https://git.iio/lo26)\n",
    "- Play with Jupyter \n",
    "- Use jupyter-nbconvert"
   ]
  },
  {
   "cell_type": "markdown",
   "metadata": {
    "slideshow": {
     "slide_type": "slide"
    }
   },
   "source": [
    "### Install Jupyter & start notebook\n",
    "\n",
    "```sh\n",
    "$ pip install jupyter\n",
    "# or\n",
    "$ conda install jupyter\n",
    "\n",
    "$ jupyter notebook\n",
    "```"
   ]
  },
  {
   "cell_type": "markdown",
   "metadata": {
    "slideshow": {
     "slide_type": "slide"
    }
   },
   "source": [
    "### Play with Jupyter Notebooks"
   ]
  },
  {
   "cell_type": "markdown",
   "metadata": {
    "slideshow": {
     "slide_type": "subslide"
    }
   },
   "source": [
    "### Kernels\n",
    "\n",
    "[Jupyter kernels for other languages](https://github.com/ipython/ipython/wiki/IPython-kernels-for-other-languages)\n",
    "![langs](http://7xiijd.com1.z0.glb.clouddn.com/jupyter-langs.png)"
   ]
  },
  {
   "cell_type": "markdown",
   "metadata": {
    "slideshow": {
     "slide_type": "subslide"
    }
   },
   "source": [
    "### Interactive data science and scientific computing\n",
    "![vis](http://7xiijd.com1.z0.glb.clouddn.com/jupyter-vis.jpg)"
   ]
  },
  {
   "cell_type": "markdown",
   "metadata": {
    "slideshow": {
     "slide_type": "subslide"
    }
   },
   "source": [
    "** Share your Notebook on [GitHub](https://github.com) & [nbviewer](http://nbviewer.jupyter.org/)**\n",
    "\n",
    "- [Google Deepdream](https://github.com/google/deepdream)\n",
    "- [List of IPython(Jupyter) Notebooks by Peter Norvig](http://norvig.com/ipython/README.html)\n",
    "- [SIGNAL PROCESSING WITH GW150914 OPEN DATA](https://losc.ligo.org/s/events/GW150914/GW150914_tutorial.html)"
   ]
  },
  {
   "cell_type": "markdown",
   "metadata": {
    "slideshow": {
     "slide_type": "slide"
    }
   },
   "source": [
    "### Converting Notebooks to Other Formats"
   ]
  },
  {
   "cell_type": "markdown",
   "metadata": {
    "slideshow": {
     "slide_type": "fragment"
    }
   },
   "source": [
    "**Slideshow view in Jupyter Notebook**\n",
    "\n",
    "![slide](http://7xiijd.com1.z0.glb.clouddn.com/jupyter-slide.jpg)"
   ]
  },
  {
   "cell_type": "markdown",
   "metadata": {
    "slideshow": {
     "slide_type": "fragment"
    }
   },
   "source": [
    "**nbconvert**\n",
    "\n",
    "```sh\n",
    "jupyter-nbconvert --to slides How-to.ipynb --reveal-prefix '//cdn.bootcss.com/reveal.js/3.2.0' --output slides\n",
    "\n",
    "mv How-to.slides.html How-to.html\n",
    "```"
   ]
  },
  {
   "cell_type": "markdown",
   "metadata": {
    "slideshow": {
     "slide_type": "slide"
    }
   },
   "source": [
    "## [THANKS](https://github.com/rainyear/nb)"
   ]
  }
 ],
 "metadata": {
  "celltoolbar": "Slideshow",
  "kernelspec": {
   "display_name": "Python 3",
   "language": "python",
   "name": "python3"
  },
  "language_info": {
   "codemirror_mode": {
    "name": "ipython",
    "version": 3
   },
   "file_extension": ".py",
   "mimetype": "text/x-python",
   "name": "python",
   "nbconvert_exporter": "python",
   "pygments_lexer": "ipython3",
   "version": "3.5.1"
  }
 },
 "nbformat": 4,
 "nbformat_minor": 0
}
